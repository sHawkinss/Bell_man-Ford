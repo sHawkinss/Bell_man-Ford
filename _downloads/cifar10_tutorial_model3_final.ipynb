{
  "cells": [
    {
      "cell_type": "code",
      "execution_count": 1,
      "metadata": {
        "id": "LFVPJDUVE4q-"
      },
      "outputs": [],
      "source": [
        "%matplotlib inline"
      ]
    },
    {
      "cell_type": "markdown",
      "metadata": {
        "id": "ftlrSiFPE4rA"
      },
      "source": [
        "\n",
        "Training a Classifier\n",
        "=====================\n",
        "\n",
        "This is it. You have seen how to define neural networks, compute loss and make\n",
        "updates to the weights of the network.\n",
        "\n",
        "Now you might be thinking,\n",
        "\n",
        "What about data?\n",
        "----------------\n",
        "\n",
        "Generally, when you have to deal with image, text, audio or video data,\n",
        "you can use standard python packages that load data into a numpy array.\n",
        "Then you can convert this array into a ``torch.*Tensor``.\n",
        "\n",
        "-  For images, packages such as Pillow, OpenCV are useful\n",
        "-  For audio, packages such as scipy and librosa\n",
        "-  For text, either raw Python or Cython based loading, or NLTK and\n",
        "   SpaCy are useful\n",
        "\n",
        "Specifically for vision, we have created a package called\n",
        "``torchvision``, that has data loaders for common datasets such as\n",
        "Imagenet, CIFAR10, MNIST, etc. and data transformers for images, viz.,\n",
        "``torchvision.datasets`` and ``torch.utils.data.DataLoader``.\n",
        "\n",
        "This provides a huge convenience and avoids writing boilerplate code.\n",
        "\n",
        "For this tutorial, we will use the CIFAR10 dataset.\n",
        "It has the classes: ‘airplane’, ‘automobile’, ‘bird’, ‘cat’, ‘deer’,\n",
        "‘dog’, ‘frog’, ‘horse’, ‘ship’, ‘truck’. The images in CIFAR-10 are of\n",
        "size 3x32x32, i.e. 3-channel color images of 32x32 pixels in size.\n",
        "\n",
        ".. figure:: /_static/img/cifar10.png\n",
        "   :alt: cifar10\n",
        "\n",
        "   cifar10\n",
        "\n",
        "\n",
        "Training an image classifier\n",
        "----------------------------\n",
        "\n",
        "We will do the following steps in order:\n",
        "\n",
        "1. Load and normalizing the CIFAR10 training and test datasets using\n",
        "   ``torchvision``\n",
        "2. Define a Convolution Neural Network\n",
        "3. Define a loss function\n",
        "4. Train the network on the training data\n",
        "5. Test the network on the test data\n",
        "\n",
        "1. Loading and normalizing CIFAR10\n",
        "^^^^^^^^^^^^^^^^^^^^^^^^^^^^^^^^^^\n",
        "\n",
        "Using ``torchvision``, it’s extremely easy to load CIFAR10.\n",
        "\n"
      ]
    },
    {
      "cell_type": "code",
      "execution_count": 3,
      "metadata": {
        "id": "rzIWyVNnE4rC",
        "outputId": "0f007466-6b85-41e7-fa06-6e2a68b3a500",
        "colab": {
          "base_uri": "https://localhost:8080/"
        }
      },
      "outputs": [
        {
          "output_type": "stream",
          "name": "stdout",
          "text": [
            "cuda:0\n"
          ]
        }
      ],
      "source": [
        "import torch\n",
        "import torchvision\n",
        "import torchvision.transforms as transforms\n",
        "device = torch.device(\"cuda:0\" if torch.cuda.is_available() else \"cpu\")\n",
        "\n",
        "# Assume that we are on a CUDA machine, then this should print a CUDA device:\n",
        "\n",
        "print(device)"
      ]
    },
    {
      "cell_type": "markdown",
      "metadata": {
        "id": "pdYZMcONE4rC"
      },
      "source": [
        "The output of torchvision datasets are PILImage images of range [0, 1].\n",
        "We transform them to Tensors of normalized range [-1, 1].\n",
        "\n"
      ]
    },
    {
      "cell_type": "code",
      "execution_count": 4,
      "metadata": {
        "id": "sXRMgwqKE4rD",
        "outputId": "5372d412-08ab-43f9-953e-7e34f80db4ef",
        "colab": {
          "base_uri": "https://localhost:8080/"
        }
      },
      "outputs": [
        {
          "output_type": "stream",
          "name": "stderr",
          "text": [
            "100%|██████████| 170M/170M [01:28<00:00, 1.94MB/s]\n"
          ]
        }
      ],
      "source": [
        "transform = transforms.Compose(\n",
        "    [transforms.ToTensor(),\n",
        "     transforms.Normalize((0.5, 0.5, 0.5), (0.5, 0.5, 0.5))])\n",
        "\n",
        "trainset = torchvision.datasets.CIFAR10(root='./data', train=True,\n",
        "                                        download=True, transform=transform)\n",
        "trainloader = torch.utils.data.DataLoader(trainset, batch_size=4,\n",
        "                                          shuffle=True, num_workers=2)\n",
        "\n",
        "testset = torchvision.datasets.CIFAR10(root='./data', train=False,\n",
        "                                       download=True, transform=transform)\n",
        "testloader = torch.utils.data.DataLoader(testset, batch_size=4,\n",
        "                                         shuffle=False, num_workers=2)\n",
        "\n",
        "classes = ('plane', 'car', 'bird', 'cat',\n",
        "           'deer', 'dog', 'frog', 'horse', 'ship', 'truck')"
      ]
    },
    {
      "cell_type": "markdown",
      "metadata": {
        "id": "B0YGFuYWE4rD"
      },
      "source": [
        "Let us show some of the training images, for fun.\n",
        "\n"
      ]
    },
    {
      "cell_type": "code",
      "execution_count": 5,
      "metadata": {
        "id": "8k04_BkUE4rD",
        "outputId": "ad6c30e9-90de-468a-a60b-64715966c70e",
        "colab": {
          "base_uri": "https://localhost:8080/",
          "height": 210
        }
      },
      "outputs": [
        {
          "output_type": "stream",
          "name": "stdout",
          "text": [
            "  cat horse   cat plane\n"
          ]
        },
        {
          "output_type": "display_data",
          "data": {
            "text/plain": [
              "<Figure size 640x480 with 1 Axes>"
            ],
            "image/png": "[encoded data removed]"
          },
          "metadata": {}
        }
      ],
      "source": [
        "import matplotlib.pyplot as plt\n",
        "import numpy as np\n",
        "\n",
        "# functions to show an image\n",
        "\n",
        "\n",
        "def imshow(img):\n",
        "    img = img / 2 + 0.5     # unnormalize\n",
        "    npimg = img.numpy()\n",
        "    plt.imshow(np.transpose(npimg, (1, 2, 0)))\n",
        "\n",
        "\n",
        "# get some random training images\n",
        "dataiter = iter(trainloader)\n",
        "images, labels = next(dataiter)\n",
        "\n",
        "# show images\n",
        "imshow(torchvision.utils.make_grid(images))\n",
        "# print labels\n",
        "print(' '.join('%5s' % classes[labels[j]] for j in range(4)))"
      ]
    },
    {
      "cell_type": "markdown",
      "metadata": {
        "id": "ZKxldx0rE4rE"
      },
      "source": [
        "2. Define a Convolution Neural Network\n",
        "^^^^^^^^^^^^^^^^^^^^^^^^^^^^^^^^^^^^^^\n",
        "Copy the neural network from the Neural Networks section before and modify it to\n",
        "take 3-channel images (instead of 1-channel images as it was defined).\n",
        "\n"
      ]
    },
    {
      "cell_type": "code",
      "execution_count": 6,
      "metadata": {
        "id": "aZasgHzFE4rE",
        "outputId": "8218f9d6-f930-471a-d68d-b3e593732f1e",
        "colab": {
          "base_uri": "https://localhost:8080/"
        }
      },
      "outputs": [
        {
          "output_type": "stream",
          "name": "stdout",
          "text": [
            "----------------------------------------------------------------\n",
            "        Layer (type)               Output Shape         Param #\n",
            "================================================================\n",
            "            Conv2d-1           [-1, 32, 30, 30]           2,432\n",
            "            Conv2d-2           [-1, 64, 28, 28]          51,264\n",
            "            Conv2d-3           [-1, 40, 32, 32]          11,560\n",
            "            Conv2d-4           [-1, 50, 30, 30]          50,050\n",
            "            Conv2d-5           [-1, 64, 28, 28]          80,064\n",
            "            Conv2d-6           [-1, 70, 26, 26]         112,070\n",
            "            Conv2d-7           [-1, 90, 28, 28]          56,790\n",
            "            Conv2d-8          [-1, 170, 30, 30]         235,790\n",
            "            Conv2d-9          [-1, 192, 28, 28]         816,192\n",
            "           Conv2d-10           [-1, 64, 28, 28]          80,064\n",
            "        MaxPool2d-11          [-1, 256, 14, 14]               0\n",
            "           Conv2d-12          [-1, 384, 14, 14]       2,457,984\n",
            "           Conv2d-13          [-1, 512, 14, 14]       1,769,984\n",
            "           Conv2d-14           [-1, 60, 28, 28]          75,060\n",
            "        MaxPool2d-15           [-1, 60, 14, 14]               0\n",
            "           Conv2d-16           [-1, 80, 16, 16]          43,280\n",
            "           Conv2d-17           [-1, 90, 18, 18]          64,890\n",
            "           Conv2d-18          [-1, 100, 16, 16]         225,100\n",
            "           Conv2d-19          [-1, 110, 16, 16]          99,110\n",
            "           Conv2d-20          [-1, 120, 16, 16]         118,920\n",
            "           Conv2d-21          [-1, 128, 16, 16]         138,368\n",
            "           Conv2d-22          [-1, 256, 16, 16]         295,168\n",
            "           Conv2d-23          [-1, 512, 14, 14]       3,277,312\n",
            "           Linear-24                   [-1, 15]       1,505,295\n",
            "           Linear-25                   [-1, 10]             160\n",
            "================================================================\n",
            "Total params: 11,566,907\n",
            "Trainable params: 11,566,907\n",
            "Non-trainable params: 0\n",
            "----------------------------------------------------------------\n",
            "Input size (MB): 0.01\n",
            "Forward/backward pass size (MB): 9.95\n",
            "Params size (MB): 44.12\n",
            "Estimated Total Size (MB): 54.09\n",
            "----------------------------------------------------------------\n"
          ]
        }
      ],
      "source": [
        "import torch.nn as nn\n",
        "import torch.nn.functional as F\n",
        "\n",
        "\n",
        "class Net(nn.Module):\n",
        "    def __init__(self):\n",
        "        super(Net, self).__init__()\n",
        "        self.conv1=nn.Conv2d(3,32,5,padding=1)\n",
        "        self.pool=nn.MaxPool2d(2,2)\n",
        "\n",
        "        #nhánh phải\n",
        "        self.conv21=nn.Conv2d(32,64,5,padding=1)#\n",
        "        self.conv22=nn.Conv2d(64,70,5,padding=1)#\n",
        "        self.conv23=nn.Conv2d(70,90,3,padding=2)#\n",
        "\n",
        "        #nhánh trái -> cộng\n",
        "        self.conv31=nn.Conv2d(32,40,3,padding=2)#\n",
        "        self.conv32=nn.Conv2d(40,50,5,padding=1)#\n",
        "        self.conv33=nn.Conv2d(50,64,5,padding=1)#\n",
        "\n",
        "        #nhánh trái -> concat\n",
        "        self.conv41=nn.Conv2d(50,64,5,padding=1)#\n",
        "\n",
        "        #nhánh trái -> final\n",
        "        self.conv51=nn.Conv2d(50,60,5,padding=1)\n",
        "        self.conv52=nn.Conv2d(60,80,3,padding=2)\n",
        "        self.conv53=nn.Conv2d(80,90,3,padding=2)\n",
        "        self.conv54=nn.Conv2d(90,100,5,padding=1)\n",
        "        self.conv55=nn.Conv2d(100,110,3,padding=1)\n",
        "        self.conv56=nn.Conv2d(110,120,3,padding=1)\n",
        "        self.conv57=nn.Conv2d(120,128,3,padding=1)\n",
        "        self.conv58=nn.Conv2d(128,256,3,padding=1)\n",
        "        self.conv59=nn.Conv2d(256,512,5,padding=1)\n",
        "\n",
        "        #nhánh phải sau concat -> final\n",
        "        self.conv61=nn.Conv2d(154,170,3,padding=2)#\n",
        "        self.conv62=nn.Conv2d(170,192,5,padding=1)#\n",
        "\n",
        "        self.conv63=nn.Conv2d(256,384,5,padding=2)#\n",
        "        self.conv64=nn.Conv2d(384,512,3,padding=1)\n",
        "\n",
        "        self.fc1=nn.Linear(512*14*14,15)\n",
        "        self.fc2=nn.Linear(15,10)\n",
        "\n",
        "    def forward(self, x):\n",
        "        x = F.relu(self.conv1(x))\n",
        "        x1=F.relu(self.conv21(x))\n",
        "        x2=F.relu(self.conv31(x))\n",
        "        x2=F.relu(self.conv32(x2))  #\n",
        "        x3=F.relu(self.conv33(x2))\n",
        "\n",
        "        x=x1+x3\n",
        "        x4=F.relu(self.conv22(x1))\n",
        "        x4=F.relu(self.conv23(x4))\n",
        "        x=torch.cat((x,x4),1)\n",
        "        x=F.relu(self.conv61(x))\n",
        "        x=F.relu(self.conv62(x))\n",
        "\n",
        "        x5=F.relu(self.conv41(x2))\n",
        "        x=torch.cat((x,x5),1)\n",
        "        x=self.pool(x)\n",
        "        x=F.relu(self.conv63(x))\n",
        "        x=F.relu(self.conv64(x)) # đợi để fc\n",
        "\n",
        "\n",
        "        x6=F.relu(self.conv51(x2))\n",
        "        x6=self.pool(x6)\n",
        "        x6=F.relu(self.conv52(x6))\n",
        "        x6=F.relu(self.conv53(x6))\n",
        "        x6=F.relu(self.conv54(x6))\n",
        "        x6=F.relu(self.conv55(x6))\n",
        "        x6=F.relu(self.conv56(x6))\n",
        "        x6=F.relu(self.conv57(x6))\n",
        "        x6=F.relu(self.conv58(x6))\n",
        "        x6=F.relu(self.conv59(x6))\n",
        "\n",
        "        x=x6+x\n",
        "        x=x.view(-1,512*14*14)\n",
        "        x=F.relu(self.fc1(x))\n",
        "        x=self.fc2(x)\n",
        "\n",
        "        return x\n",
        "\n",
        "net =Net()\n",
        "device = torch.device(\"cuda\" if torch.cuda.is_available() else \"cpu\")\n",
        "model = Net().to(device)\n",
        "\n",
        "from torchsummary import summary\n",
        "summary(model, (3, 32, 32))"
      ]
    },
    {
      "cell_type": "markdown",
      "metadata": {
        "id": "mKv8mdCmE4rE"
      },
      "source": [
        "3. Define a Loss function and optimizer\n",
        "^^^^^^^^^^^^^^^^^^^^^^^^^^^^^^^^^^^^^^^\n",
        "Let's use a Classification Cross-Entropy loss and SGD with momentum.\n",
        "\n"
      ]
    },
    {
      "cell_type": "code",
      "execution_count": 7,
      "metadata": {
        "id": "mGycvMB4E4rE"
      },
      "outputs": [],
      "source": [
        "import torch.optim as optim\n",
        "\n",
        "criterion = nn.CrossEntropyLoss()\n",
        "optimizer = optim.SGD(net.parameters(), lr=0.001, momentum=0.9)"
      ]
    },
    {
      "cell_type": "markdown",
      "metadata": {
        "id": "K3InWbJ1E4rF"
      },
      "source": [
        "4. Train the network\n",
        "^^^^^^^^^^^^^^^^^^^^\n",
        "\n",
        "This is when things start to get interesting.\n",
        "We simply have to loop over our data iterator, and feed the inputs to the\n",
        "network and optimize.\n",
        "\n"
      ]
    },
    {
      "cell_type": "code",
      "execution_count": 8,
      "metadata": {
        "id": "tcFaU2CEE4rF",
        "outputId": "4c6eeb4a-7fb5-4ab3-866d-5b044e901c15",
        "colab": {
          "base_uri": "https://localhost:8080/"
        }
      },
      "outputs": [
        {
          "output_type": "stream",
          "name": "stdout",
          "text": [
            "[1,  2000] loss: 2.305\n",
            "[1,  4000] loss: 2.147\n",
            "[1,  6000] loss: 1.957\n",
            "[1,  8000] loss: 1.856\n",
            "[1, 10000] loss: 1.743\n",
            "[1, 12000] loss: 1.606\n",
            "[2,  2000] loss: 1.492\n",
            "[2,  4000] loss: 1.419\n",
            "[2,  6000] loss: 1.372\n",
            "[2,  8000] loss: 1.304\n",
            "[2, 10000] loss: 1.218\n",
            "[2, 12000] loss: 1.155\n",
            "[3,  2000] loss: 1.069\n",
            "[3,  4000] loss: 1.004\n",
            "[3,  6000] loss: 0.997\n",
            "[3,  8000] loss: 0.965\n",
            "[3, 10000] loss: 0.944\n",
            "[3, 12000] loss: 0.909\n",
            "[4,  2000] loss: 0.777\n",
            "[4,  4000] loss: 0.775\n",
            "[4,  6000] loss: 0.776\n",
            "[4,  8000] loss: 0.751\n",
            "[4, 10000] loss: 0.742\n",
            "[4, 12000] loss: 0.719\n",
            "[5,  2000] loss: 0.563\n",
            "[5,  4000] loss: 0.585\n",
            "[5,  6000] loss: 0.583\n",
            "[5,  8000] loss: 0.580\n",
            "[5, 10000] loss: 0.600\n",
            "[5, 12000] loss: 0.592\n",
            "[6,  2000] loss: 0.395\n",
            "[6,  4000] loss: 0.412\n",
            "[6,  6000] loss: 0.439\n",
            "[6,  8000] loss: 0.436\n",
            "[6, 10000] loss: 0.448\n",
            "[6, 12000] loss: 0.462\n",
            "[7,  2000] loss: 0.259\n",
            "[7,  4000] loss: 0.276\n",
            "[7,  6000] loss: 0.300\n",
            "[7,  8000] loss: 0.311\n",
            "[7, 10000] loss: 0.345\n",
            "[7, 12000] loss: 0.334\n",
            "[8,  2000] loss: 0.147\n",
            "[8,  4000] loss: 0.201\n",
            "[8,  6000] loss: 0.216\n",
            "[8,  8000] loss: 0.249\n",
            "[8, 10000] loss: 0.249\n",
            "[8, 12000] loss: 0.265\n",
            "[9,  2000] loss: 0.126\n",
            "[9,  4000] loss: 0.140\n",
            "[9,  6000] loss: 0.161\n",
            "[9,  8000] loss: 0.169\n",
            "[9, 10000] loss: 0.213\n",
            "[9, 12000] loss: 0.208\n",
            "[10,  2000] loss: 0.100\n",
            "[10,  4000] loss: 0.128\n",
            "[10,  6000] loss: 0.130\n",
            "[10,  8000] loss: 0.151\n",
            "[10, 10000] loss: 0.160\n",
            "[10, 12000] loss: 0.162\n",
            "Finished Training\n"
          ]
        }
      ],
      "source": [
        "device = torch.device(\"cuda\" if torch.cuda.is_available() else \"cpu\")\n",
        "net.to(device)\n",
        "\n",
        "for epoch in range(10):  # loop over the dataset multiple times\n",
        "    running_loss = 0.0\n",
        "    for i, data in enumerate(trainloader, 0):\n",
        "        inputs, labels = data\n",
        "        inputs, labels = inputs.to(device), labels.to(device)  # Đưa lên GPU\n",
        "\n",
        "        optimizer.zero_grad()\n",
        "        outputs = net(inputs)\n",
        "        loss = criterion(outputs, labels)\n",
        "        loss.backward()\n",
        "        optimizer.step()\n",
        "\n",
        "        running_loss += loss.item()\n",
        "        if i % 2000 == 1999:\n",
        "            print('[%d, %5d] loss: %.3f' %\n",
        "                  (epoch + 1, i + 1, running_loss / 2000))\n",
        "            running_loss = 0.0\n",
        "\n",
        "print('Finished Training')"
      ]
    },
    {
      "cell_type": "markdown",
      "metadata": {
        "id": "vIjHPlmHE4rF"
      },
      "source": [
        "5. Test the network on the test data\n",
        "^^^^^^^^^^^^^^^^^^^^^^^^^^^^^^^^^^^^\n",
        "\n",
        "We have trained the network for 2 passes over the training dataset.\n",
        "But we need to check if the network has learnt anything at all.\n",
        "\n",
        "We will check this by predicting the class label that the neural network\n",
        "outputs, and checking it against the ground-truth. If the prediction is\n",
        "correct, we add the sample to the list of correct predictions.\n",
        "\n",
        "Okay, first step. Let us display an image from the test set to get familiar.\n",
        "\n"
      ]
    },
    {
      "cell_type": "code",
      "execution_count": 9,
      "metadata": {
        "id": "X9r5PS7XE4rF",
        "outputId": "f8a44c5d-19cf-4df2-b0d7-830326fa8fad",
        "colab": {
          "base_uri": "https://localhost:8080/",
          "height": 210
        }
      },
      "outputs": [
        {
          "output_type": "stream",
          "name": "stdout",
          "text": [
            "GroundTruth:    cat  ship  ship plane\n"
          ]
        },
        {
          "output_type": "display_data",
          "data": {
            "text/plain": [
              "<Figure size 640x480 with 1 Axes>"
            ],
            "image/png": "[encoded data removed]"
          },
          "metadata": {}
        }
      ],
      "source": [
        "device = torch.device(\"cuda\" if torch.cuda.is_available() else \"cpu\")\n",
        "net.to(device)  # Ensure the model is on the correct device\n",
        "\n",
        "dataiter = iter(testloader)\n",
        "images, labels = next(dataiter)\n",
        "\n",
        "images = images.to(device)  # Move images to the same device as the model\n",
        "labels = labels.to(device)  # Optional: move labels if you'll use them later\n",
        "\n",
        "# Print images (convert back to CPU just for displaying)\n",
        "imshow(torchvision.utils.make_grid(images.cpu()))\n",
        "print('GroundTruth: ', ' '.join('%5s' % classes[labels[j]] for j in range(4)))"
      ]
    },
    {
      "cell_type": "markdown",
      "metadata": {
        "id": "56MiT1doE4rF"
      },
      "source": [
        "Okay, now let us see what the neural network thinks these examples above are:\n",
        "\n"
      ]
    },
    {
      "cell_type": "code",
      "execution_count": 10,
      "metadata": {
        "id": "dSw76RIyE4rF"
      },
      "outputs": [],
      "source": [
        "outputs = net(images)"
      ]
    },
    {
      "cell_type": "markdown",
      "metadata": {
        "id": "gG_sDVj5E4rF"
      },
      "source": [
        "The outputs are energies for the 10 classes.\n",
        "Higher the energy for a class, the more the network\n",
        "thinks that the image is of the particular class.\n",
        "So, let's get the index of the highest energy:\n",
        "\n"
      ]
    },
    {
      "cell_type": "code",
      "execution_count": 11,
      "metadata": {
        "id": "OvQGSffdE4rF",
        "outputId": "13a04cb0-b59a-4c94-8c8a-86dea21edf7e",
        "colab": {
          "base_uri": "https://localhost:8080/"
        }
      },
      "outputs": [
        {
          "output_type": "stream",
          "name": "stdout",
          "text": [
            "Predicted:    cat  ship  ship plane\n"
          ]
        }
      ],
      "source": [
        "_, predicted = torch.max(outputs, 1)\n",
        "\n",
        "print('Predicted: ', ' '.join('%5s' % classes[predicted[j]]\n",
        "                              for j in range(4)))"
      ]
    },
    {
      "cell_type": "markdown",
      "metadata": {
        "id": "OH_fwVJ5E4rF"
      },
      "source": [
        "The results seem pretty good.\n",
        "\n",
        "Let us look at how the network performs on the whole dataset.\n",
        "\n"
      ]
    },
    {
      "cell_type": "code",
      "execution_count": 12,
      "metadata": {
        "id": "5wxAECP8E4rF",
        "outputId": "2a3a3ac4-4cea-446f-bf31-53ff1d2dd581",
        "colab": {
          "base_uri": "https://localhost:8080/"
        }
      },
      "outputs": [
        {
          "output_type": "stream",
          "name": "stdout",
          "text": [
            "Accuracy of the network on the 10000 test images: 74 %\n"
          ]
        }
      ],
      "source": [
        "\n",
        "device = torch.device(\"cuda\" if torch.cuda.is_available() else \"cpu\")\n",
        "net.to(device)  # Ensure the model is on the correct device\n",
        "\n",
        "correct = 0\n",
        "total = 0\n",
        "with torch.no_grad():\n",
        "    for data in testloader:\n",
        "        images, labels = data\n",
        "        images = images.to(device)\n",
        "        labels = labels.to(device)\n",
        "\n",
        "        outputs = net(images)\n",
        "        _, predicted = torch.max(outputs.data, 1)\n",
        "        total += labels.size(0)\n",
        "        correct += (predicted == labels).sum().item()\n",
        "\n",
        "print('Accuracy of the network on the 10000 test images: %d %%' % (\n",
        "    100 * correct / total))"
      ]
    },
    {
      "cell_type": "markdown",
      "metadata": {
        "id": "-b82OVKoE4rF"
      },
      "source": [
        "That looks waaay better than chance, which is 10% accuracy (randomly picking\n",
        "a class out of 10 classes).\n",
        "Seems like the network learnt something.\n",
        "\n",
        "Hmmm, what are the classes that performed well, and the classes that did\n",
        "not perform well:\n",
        "\n"
      ]
    },
    {
      "cell_type": "code",
      "execution_count": 13,
      "metadata": {
        "id": "MfACnfB6E4rF",
        "outputId": "9ccd1b55-da2d-4fd8-ac6f-4cb25caeb41e",
        "colab": {
          "base_uri": "https://localhost:8080/"
        }
      },
      "outputs": [
        {
          "output_type": "stream",
          "name": "stdout",
          "text": [
            "Accuracy of plane : 78 %\n",
            "Accuracy of   car : 86 %\n",
            "Accuracy of  bird : 74 %\n",
            "Accuracy of   cat : 58 %\n",
            "Accuracy of  deer : 66 %\n",
            "Accuracy of   dog : 60 %\n",
            "Accuracy of  frog : 78 %\n",
            "Accuracy of horse : 71 %\n",
            "Accuracy of  ship : 87 %\n",
            "Accuracy of truck : 84 %\n"
          ]
        }
      ],
      "source": [
        "device = torch.device(\"cuda\" if torch.cuda.is_available() else \"cpu\")\n",
        "net.to(device)\n",
        "\n",
        "class_correct = list(0. for i in range(10))\n",
        "class_total = list(0. for i in range(10))\n",
        "\n",
        "with torch.no_grad():\n",
        "    for data in testloader:\n",
        "        images, labels = data\n",
        "        images = images.to(device)\n",
        "        labels = labels.to(device)\n",
        "\n",
        "        outputs = net(images)\n",
        "        _, predicted = torch.max(outputs, 1)\n",
        "        c = (predicted == labels).squeeze()\n",
        "\n",
        "        for i in range(len(labels)):  # safer than fixed range(4)\n",
        "            label = labels[i].item()\n",
        "            class_correct[label] += c[i].item()\n",
        "            class_total[label] += 1\n",
        "\n",
        "for i in range(10):\n",
        "    if class_total[i] > 0:\n",
        "        print('Accuracy of %5s : %2d %%' % (\n",
        "            classes[i], 100 * class_correct[i] / class_total[i]))\n",
        "    else:\n",
        "        print('Accuracy of %5s : N/A (no samples)' % classes[i])"
      ]
    },
    {
      "cell_type": "markdown",
      "metadata": {
        "id": "hThKNF26E4rG"
      },
      "source": [
        "Okay, so what next?\n",
        "\n",
        "How do we run these neural networks on the GPU?\n",
        "\n",
        "Training on GPU\n",
        "----------------\n",
        "Just like how you transfer a Tensor on to the GPU, you transfer the neural\n",
        "net onto the GPU.\n",
        "\n",
        "Let's first define our device as the first visible cuda device if we have\n",
        "CUDA available:\n",
        "\n"
      ]
    },
    {
      "cell_type": "code",
      "execution_count": null,
      "metadata": {
        "id": "zbGbFJyLE4rG"
      },
      "outputs": [],
      "source": [
        "device = torch.device(\"cuda:0\" if torch.cuda.is_available() else \"cpu\")\n",
        "\n",
        "# Assume that we are on a CUDA machine, then this should print a CUDA device:\n",
        "\n",
        "print(device)"
      ]
    },
    {
      "cell_type": "markdown",
      "metadata": {
        "id": "wDDyBC4rE4rG"
      },
      "source": [
        "The rest of this section assumes that `device` is a CUDA device.\n",
        "\n",
        "Then these methods will recursively go over all modules and convert their\n",
        "parameters and buffers to CUDA tensors:\n",
        "\n",
        ".. code:: python\n",
        "\n",
        "    net.to(device)\n",
        "\n",
        "\n",
        "Remember that you will have to send the inputs and targets at every step\n",
        "to the GPU too:\n",
        "\n",
        ".. code:: python\n",
        "\n",
        "        inputs, labels = inputs.to(device), labels.to(device)\n",
        "\n",
        "Why dont I notice MASSIVE speedup compared to CPU? Because your network\n",
        "is realllly small.\n",
        "\n",
        "**Exercise:** Try increasing the width of your network (argument 2 of\n",
        "the first ``nn.Conv2d``, and argument 1 of the second ``nn.Conv2d`` –\n",
        "they need to be the same number), see what kind of speedup you get.\n",
        "\n",
        "**Goals achieved**:\n",
        "\n",
        "- Understanding PyTorch's Tensor library and neural networks at a high level.\n",
        "- Train a small neural network to classify images\n",
        "\n",
        "Training on multiple GPUs\n",
        "-------------------------\n",
        "If you want to see even more MASSIVE speedup using all of your GPUs,\n",
        "please check out :doc:`data_parallel_tutorial`.\n",
        "\n",
        "Where do I go next?\n",
        "-------------------\n",
        "\n",
        "-  :doc:`Train neural nets to play video games </intermediate/reinforcement_q_learning>`\n",
        "-  `Train a state-of-the-art ResNet network on imagenet`_\n",
        "-  `Train a face generator using Generative Adversarial Networks`_\n",
        "-  `Train a word-level language model using Recurrent LSTM networks`_\n",
        "-  `More examples`_\n",
        "-  `More tutorials`_\n",
        "-  `Discuss PyTorch on the Forums`_\n",
        "-  `Chat with other users on Slack`_\n",
        "\n",
        "\n"
      ]
    }
  ],
  "metadata": {
    "kernelspec": {
      "display_name": "Python 3",
      "name": "python3"
    },
    "language_info": {
      "codemirror_mode": {
        "name": "ipython",
        "version": 3
      },
      "file_extension": ".py",
      "mimetype": "text/x-python",
      "name": "python",
      "nbconvert_exporter": "python",
      "pygments_lexer": "ipython3",
      "version": "3.6.6"
    },
    "colab": {
      "provenance": [],
      "gpuType": "T4"
    },
    "accelerator": "GPU"
  },
  "nbformat": 4,
  "nbformat_minor": 0
}