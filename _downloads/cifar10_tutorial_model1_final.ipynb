{
  "cells": [
    {
      "cell_type": "code",
      "execution_count": 1,
      "metadata": {
        "id": "eJ0qNGRLxuGA"
      },
      "outputs": [],
      "source": [
        "%matplotlib inline"
      ]
    },
    {
      "cell_type": "markdown",
      "metadata": {
        "id": "PlB6KBQjxuGB"
      },
      "source": [
        "\n",
        "Training a Classifier\n",
        "=====================\n",
        "\n",
        "This is it. You have seen how to define neural networks, compute loss and make\n",
        "updates to the weights of the network.\n",
        "\n",
        "Now you might be thinking,\n",
        "\n",
        "What about data?\n",
        "----------------\n",
        "\n",
        "Generally, when you have to deal with image, text, audio or video data,\n",
        "you can use standard python packages that load data into a numpy array.\n",
        "Then you can convert this array into a ``torch.*Tensor``.\n",
        "\n",
        "-  For images, packages such as Pillow, OpenCV are useful\n",
        "-  For audio, packages such as scipy and librosa\n",
        "-  For text, either raw Python or Cython based loading, or NLTK and\n",
        "   SpaCy are useful\n",
        "\n",
        "Specifically for vision, we have created a package called\n",
        "``torchvision``, that has data loaders for common datasets such as\n",
        "Imagenet, CIFAR10, MNIST, etc. and data transformers for images, viz.,\n",
        "``torchvision.datasets`` and ``torch.utils.data.DataLoader``.\n",
        "\n",
        "This provides a huge convenience and avoids writing boilerplate code.\n",
        "\n",
        "For this tutorial, we will use the CIFAR10 dataset.\n",
        "It has the classes: ‘airplane’, ‘automobile’, ‘bird’, ‘cat’, ‘deer’,\n",
        "‘dog’, ‘frog’, ‘horse’, ‘ship’, ‘truck’. The images in CIFAR-10 are of\n",
        "size 3x32x32, i.e. 3-channel color images of 32x32 pixels in size.\n",
        "\n",
        ".. figure:: /_static/img/cifar10.png\n",
        "   :alt: cifar10\n",
        "\n",
        "   cifar10\n",
        "\n",
        "\n",
        "Training an image classifier\n",
        "----------------------------\n",
        "\n",
        "We will do the following steps in order:\n",
        "\n",
        "1. Load and normalizing the CIFAR10 training and test datasets using\n",
        "   ``torchvision``\n",
        "2. Define a Convolution Neural Network\n",
        "3. Define a loss function\n",
        "4. Train the network on the training data\n",
        "5. Test the network on the test data\n",
        "\n",
        "1. Loading and normalizing CIFAR10\n",
        "^^^^^^^^^^^^^^^^^^^^^^^^^^^^^^^^^^\n",
        "\n",
        "Using ``torchvision``, it’s extremely easy to load CIFAR10.\n",
        "\n"
      ]
    },
    {
      "cell_type": "code",
      "execution_count": 2,
      "metadata": {
        "id": "6ki5BvYxxuGD",
        "outputId": "57c9532d-e50b-4da1-b184-ca9196ac15ba",
        "colab": {
          "base_uri": "https://localhost:8080/"
        }
      },
      "outputs": [
        {
          "output_type": "stream",
          "name": "stdout",
          "text": [
            "cuda:0\n"
          ]
        }
      ],
      "source": [
        "import torch\n",
        "import torchvision\n",
        "import torchvision.transforms as transforms\n",
        "device = torch.device(\"cuda:0\" if torch.cuda.is_available() else \"cpu\")\n",
        "\n",
        "# Assume that we are on a CUDA machine, then this should print a CUDA device:\n",
        "\n",
        "print(device)"
      ]
    },
    {
      "cell_type": "markdown",
      "metadata": {
        "id": "dFPtU_fLxuGD"
      },
      "source": [
        "The output of torchvision datasets are PILImage images of range [0, 1].\n",
        "We transform them to Tensors of normalized range [-1, 1].\n",
        "\n"
      ]
    },
    {
      "cell_type": "code",
      "execution_count": 3,
      "metadata": {
        "id": "0-CymWuoxuGE",
        "outputId": "e8b07163-0841-4705-a6f6-3c462390dbf6",
        "colab": {
          "base_uri": "https://localhost:8080/"
        }
      },
      "outputs": [
        {
          "output_type": "stream",
          "name": "stderr",
          "text": [
            "100%|██████████| 170M/170M [00:04<00:00, 41.8MB/s]\n"
          ]
        }
      ],
      "source": [
        "transform = transforms.Compose(\n",
        "    [transforms.ToTensor(),\n",
        "     transforms.Normalize((0.5, 0.5, 0.5), (0.5, 0.5, 0.5))])\n",
        "\n",
        "trainset = torchvision.datasets.CIFAR10(root='./data', train=True,\n",
        "                                        download=True, transform=transform)\n",
        "trainloader = torch.utils.data.DataLoader(trainset, batch_size=4,\n",
        "                                          shuffle=True, num_workers=2)\n",
        "\n",
        "testset = torchvision.datasets.CIFAR10(root='./data', train=False,\n",
        "                                       download=True, transform=transform)\n",
        "testloader = torch.utils.data.DataLoader(testset, batch_size=4,\n",
        "                                         shuffle=False, num_workers=2)\n",
        "\n",
        "classes = ('plane', 'car', 'bird', 'cat',\n",
        "           'deer', 'dog', 'frog', 'horse', 'ship', 'truck')"
      ]
    },
    {
      "cell_type": "markdown",
      "metadata": {
        "id": "qvFVodp-xuGE"
      },
      "source": [
        "Let us show some of the training images, for fun.\n",
        "\n"
      ]
    },
    {
      "cell_type": "code",
      "execution_count": 4,
      "metadata": {
        "id": "-jGgceBNxuGE",
        "outputId": "4303b558-bd56-4522-f8a4-845af5378732",
        "colab": {
          "base_uri": "https://localhost:8080/",
          "height": 210
        }
      },
      "outputs": [
        {
          "output_type": "stream",
          "name": "stdout",
          "text": [
            " ship  bird   car   cat\n"
          ]
        },
        {
          "output_type": "display_data",
          "data": {
            "text/plain": [
              "<Figure size 640x480 with 1 Axes>"
            ],
            "image/png": "[encoded data removed]"
          },
          "metadata": {}
        }
      ],
      "source": [
        "import matplotlib.pyplot as plt\n",
        "import numpy as np\n",
        "\n",
        "# functions to show an image\n",
        "\n",
        "\n",
        "def imshow(img):\n",
        "    img = img / 2 + 0.5     # unnormalize\n",
        "    npimg = img.numpy()\n",
        "    plt.imshow(np.transpose(npimg, (1, 2, 0)))\n",
        "\n",
        "\n",
        "# get some random training images\n",
        "dataiter = iter(trainloader)\n",
        "images, labels = next(dataiter)\n",
        "\n",
        "# show images\n",
        "imshow(torchvision.utils.make_grid(images))\n",
        "# print labels\n",
        "print(' '.join('%5s' % classes[labels[j]] for j in range(4)))"
      ]
    },
    {
      "cell_type": "markdown",
      "metadata": {
        "id": "9DNUKVqwxuGF"
      },
      "source": [
        "2. Define a Convolution Neural Network\n",
        "^^^^^^^^^^^^^^^^^^^^^^^^^^^^^^^^^^^^^^\n",
        "Copy the neural network from the Neural Networks section before and modify it to\n",
        "take 3-channel images (instead of 1-channel images as it was defined).\n",
        "\n"
      ]
    },
    {
      "cell_type": "code",
      "execution_count": 5,
      "metadata": {
        "id": "CC1U7n2dxuGF",
        "outputId": "d45e03ef-4b27-4569-ed7d-97c6aa2515f3",
        "colab": {
          "base_uri": "https://localhost:8080/"
        }
      },
      "outputs": [
        {
          "output_type": "stream",
          "name": "stdout",
          "text": [
            "----------------------------------------------------------------\n",
            "        Layer (type)               Output Shape         Param #\n",
            "================================================================\n",
            "            Conv2d-1           [-1, 32, 30, 30]           2,432\n",
            "            Conv2d-2           [-1, 64, 30, 30]          18,496\n",
            "            Conv2d-3           [-1, 64, 30, 30]          18,496\n",
            "            Conv2d-4          [-1, 128, 30, 30]          73,856\n",
            "            Conv2d-5          [-1, 128, 30, 30]          73,856\n",
            "            Conv2d-6          [-1, 192, 30, 30]         221,376\n",
            "            Conv2d-7          [-1, 256, 30, 30]         442,624\n",
            "            Conv2d-8          [-1, 150, 30, 30]         172,950\n",
            "            Conv2d-9          [-1, 192, 30, 30]         259,392\n",
            "           Conv2d-10          [-1, 220, 30, 30]         380,380\n",
            "           Conv2d-11          [-1, 256, 30, 30]         507,136\n",
            "        MaxPool2d-12          [-1, 512, 15, 15]               0\n",
            "           Linear-13                   [-1, 25]       2,880,025\n",
            "           Linear-14                   [-1, 10]             260\n",
            "================================================================\n",
            "Total params: 5,051,279\n",
            "Trainable params: 5,051,279\n",
            "Non-trainable params: 0\n",
            "----------------------------------------------------------------\n",
            "Input size (MB): 0.01\n",
            "Forward/backward pass size (MB): 12.43\n",
            "Params size (MB): 19.27\n",
            "Estimated Total Size (MB): 31.71\n",
            "----------------------------------------------------------------\n"
          ]
        }
      ],
      "source": [
        "import torch.nn as nn\n",
        "import torch.nn.functional as F\n",
        "\n",
        "\n",
        "class Net(nn.Module):\n",
        "      def __init__(self):\n",
        "          super(Net, self).__init__()\n",
        "          self.conv1=nn.Conv2d(3,32,5,padding=1)\n",
        "          self.pool=nn.MaxPool2d(2,2)\n",
        "          #nhánh phải\n",
        "          self.conv21=nn.Conv2d(32,64,3,padding=1)\n",
        "          self.conv22=nn.Conv2d(64,128,3,padding=1)\n",
        "\n",
        "\n",
        "          #nhánh trái\n",
        "          self.conv31=nn.Conv2d(32,64,3,padding=1)\n",
        "          self.conv32=nn.Conv2d(64,128,3,padding=1)\n",
        "\n",
        "          #nhánh trái (trái)\n",
        "          self.conv41=nn.Conv2d(128,150,3,padding=1)\n",
        "          self.conv42=nn.Conv2d(150,192,3,padding=1)\n",
        "          self.conv43=nn.Conv2d(192,220,3,padding=1)\n",
        "          self.conv44=nn.Conv2d(220,256,3,padding=1)\n",
        "          #nhánh trái (phải)\n",
        "          self.conv51=nn.Conv2d(128,192,3,padding=1)\n",
        "          self.conv52=nn.Conv2d(192,256,3,padding=1)\n",
        "\n",
        "          self.fc1 = nn.Linear(512 * 15 * 15, 25)\n",
        "          self.fc2 = nn.Linear(25, 10)\n",
        "\n",
        "\n",
        "      def forward(self, x):\n",
        "          x = F.relu(self.conv1(x))\n",
        "\n",
        "          x1 = F.relu(self.conv21(x))\n",
        "          x2 = F.relu(self.conv31(x))\n",
        "          x = x1 + x2\n",
        "\n",
        "          x1 = F.relu(self.conv22(x))\n",
        "          x = torch.cat((x1,x),1)\n",
        "\n",
        "          x3 = F.relu(self.conv32(x2))\n",
        "          x4 = F.relu(self.conv51(x3))\n",
        "\n",
        "          x = x + x4\n",
        "          x = F.relu(self.conv52(x))\n",
        "\n",
        "          x5 = F.relu(self.conv41(x3))\n",
        "          x5 = F.relu(self.conv42(x5))\n",
        "          x5 = F.relu(self.conv43(x5))\n",
        "          x5 = F.relu(self.conv44(x5))\n",
        "\n",
        "          x=torch.cat((x,x5),1)\n",
        "          x=self.pool(x)\n",
        "\n",
        "          x= x.view(-1, 512*15*15)\n",
        "          x = F.relu(self.fc1(x))\n",
        "          x = self.fc2(x)\n",
        "\n",
        "          return x\n",
        "\n",
        "\n",
        "device = torch.device(\"cuda\" if torch.cuda.is_available() else \"cpu\")\n",
        "model = Net().to(device)\n",
        "\n",
        "from torchsummary import summary\n",
        "summary(model, (3, 32, 32))"
      ]
    },
    {
      "cell_type": "markdown",
      "metadata": {
        "id": "VW8vK9mwxuGG"
      },
      "source": [
        "3. Define a Loss function and optimizer\n",
        "^^^^^^^^^^^^^^^^^^^^^^^^^^^^^^^^^^^^^^^\n",
        "Let's use a Classification Cross-Entropy loss and SGD with momentum.\n",
        "\n"
      ]
    },
    {
      "cell_type": "code",
      "execution_count": 6,
      "metadata": {
        "id": "8424_poxxuGG"
      },
      "outputs": [],
      "source": [
        "import torch.optim as optim\n",
        "\n",
        "criterion = nn.CrossEntropyLoss()\n",
        "optimizer = optim.SGD(model.parameters(), lr=0.001, momentum=0.9)"
      ]
    },
    {
      "cell_type": "markdown",
      "metadata": {
        "id": "qwqn8Ww2xuGG"
      },
      "source": [
        "4. Train the network\n",
        "^^^^^^^^^^^^^^^^^^^^\n",
        "\n",
        "This is when things start to get interesting.\n",
        "We simply have to loop over our data iterator, and feed the inputs to the\n",
        "network and optimize.\n",
        "\n"
      ]
    },
    {
      "cell_type": "code",
      "execution_count": 8,
      "metadata": {
        "id": "LZovatk7xuGG",
        "outputId": "4896aee7-d959-463f-cd9d-97d8c9b1fcdf",
        "colab": {
          "base_uri": "https://localhost:8080/"
        }
      },
      "outputs": [
        {
          "output_type": "stream",
          "name": "stdout",
          "text": [
            "[1,  2000] loss: 0.124\n",
            "[1,  4000] loss: 0.123\n",
            "[1,  6000] loss: 0.165\n",
            "[1,  8000] loss: 0.172\n",
            "[1, 10000] loss: 0.186\n",
            "[1, 12000] loss: 0.202\n",
            "[2,  2000] loss: 0.093\n",
            "[2,  4000] loss: 0.117\n",
            "[2,  6000] loss: 0.125\n",
            "[2,  8000] loss: 0.133\n",
            "[2, 10000] loss: 0.144\n",
            "[2, 12000] loss: 0.180\n",
            "[3,  2000] loss: 0.091\n",
            "[3,  4000] loss: 0.100\n",
            "[3,  6000] loss: 0.118\n",
            "[3,  8000] loss: 0.124\n",
            "[3, 10000] loss: 0.114\n",
            "[3, 12000] loss: 0.132\n",
            "[4,  2000] loss: 0.077\n",
            "[4,  4000] loss: 0.098\n",
            "[4,  6000] loss: 0.097\n",
            "[4,  8000] loss: 0.108\n",
            "[4, 10000] loss: 0.120\n",
            "[4, 12000] loss: 0.118\n",
            "[5,  2000] loss: 0.061\n",
            "[5,  4000] loss: 0.072\n",
            "[5,  6000] loss: 0.098\n",
            "[5,  8000] loss: 0.107\n",
            "[5, 10000] loss: 0.082\n",
            "[5, 12000] loss: 0.118\n",
            "[6,  2000] loss: 0.072\n",
            "[6,  4000] loss: 0.068\n",
            "[6,  6000] loss: 0.053\n",
            "[6,  8000] loss: 0.072\n",
            "[6, 10000] loss: 0.084\n",
            "[6, 12000] loss: 0.095\n",
            "[7,  2000] loss: 0.039\n",
            "[7,  4000] loss: 0.069\n",
            "[7,  6000] loss: 0.079\n",
            "[7,  8000] loss: 0.101\n",
            "[7, 10000] loss: 0.113\n",
            "[7, 12000] loss: 0.121\n",
            "[8,  2000] loss: 0.066\n",
            "[8,  4000] loss: 0.070\n",
            "[8,  6000] loss: 0.074\n",
            "[8,  8000] loss: 0.087\n",
            "[8, 10000] loss: 0.081\n",
            "[8, 12000] loss: 0.100\n",
            "[9,  2000] loss: 0.058\n",
            "[9,  4000] loss: 0.064\n",
            "[9,  6000] loss: 0.080\n",
            "[9,  8000] loss: 0.092\n",
            "[9, 10000] loss: 0.104\n",
            "[9, 12000] loss: 0.100\n",
            "[10,  2000] loss: 0.059\n",
            "[10,  4000] loss: 0.048\n",
            "[10,  6000] loss: 0.071\n",
            "[10,  8000] loss: 0.089\n",
            "[10, 10000] loss: 0.073\n",
            "[10, 12000] loss: 0.086\n",
            "[11,  2000] loss: 0.052\n",
            "[11,  4000] loss: 0.060\n",
            "[11,  6000] loss: 0.090\n",
            "[11,  8000] loss: 0.092\n",
            "[11, 10000] loss: 0.112\n",
            "[11, 12000] loss: 0.101\n",
            "[12,  2000] loss: 0.055\n",
            "[12,  4000] loss: 0.052\n",
            "[12,  6000] loss: 0.063\n",
            "[12,  8000] loss: 0.072\n",
            "[12, 10000] loss: 0.089\n",
            "[12, 12000] loss: 0.088\n",
            "[13,  2000] loss: 0.041\n",
            "[13,  4000] loss: 0.057\n",
            "[13,  6000] loss: 0.059\n",
            "[13,  8000] loss: 0.084\n",
            "[13, 10000] loss: 0.052\n",
            "[13, 12000] loss: 0.083\n",
            "[14,  2000] loss: 0.057\n",
            "[14,  4000] loss: 0.060\n",
            "[14,  6000] loss: 0.077\n",
            "[14,  8000] loss: 0.082\n",
            "[14, 10000] loss: 0.065\n",
            "[14, 12000] loss: 0.076\n",
            "[15,  2000] loss: 0.074\n",
            "[15,  4000] loss: 0.071\n",
            "[15,  6000] loss: 0.077\n",
            "[15,  8000] loss: 0.094\n",
            "[15, 10000] loss: 0.082\n",
            "[15, 12000] loss: 0.120\n",
            "[16,  2000] loss: 0.052\n",
            "[16,  4000] loss: 0.059\n",
            "[16,  6000] loss: 0.069\n",
            "[16,  8000] loss: 0.077\n",
            "[16, 10000] loss: 0.063\n",
            "[16, 12000] loss: 0.090\n",
            "[17,  2000] loss: 0.046\n",
            "[17,  4000] loss: 0.048\n",
            "[17,  6000] loss: 0.068\n",
            "[17,  8000] loss: 0.071\n",
            "[17, 10000] loss: 0.069\n",
            "[17, 12000] loss: 0.092\n",
            "[18,  2000] loss: 0.116\n",
            "[18,  4000] loss: 0.084\n",
            "[18,  6000] loss: 0.050\n",
            "[18,  8000] loss: 0.101\n",
            "[18, 10000] loss: 0.078\n",
            "[18, 12000] loss: 0.082\n",
            "[19,  2000] loss: 0.049\n",
            "[19,  4000] loss: 0.061\n",
            "[19,  6000] loss: 0.069\n",
            "[19,  8000] loss: 0.060\n",
            "[19, 10000] loss: 0.064\n",
            "[19, 12000] loss: 0.083\n",
            "[20,  2000] loss: 0.064\n",
            "[20,  4000] loss: 0.062\n",
            "[20,  6000] loss: 0.071\n",
            "[20,  8000] loss: 0.106\n",
            "[20, 10000] loss: 0.095\n",
            "[20, 12000] loss: 0.095\n",
            "Finished Training\n"
          ]
        }
      ],
      "source": [
        "device = torch.device(\"cuda\" if torch.cuda.is_available() else \"cpu\")\n",
        "model.to(device)\n",
        "\n",
        "for epoch in range(20):  # loop over the dataset multiple times\n",
        "    running_loss = 0.0\n",
        "    for i, data in enumerate(trainloader, 0):\n",
        "        inputs, labels = data\n",
        "        inputs, labels = inputs.to(device), labels.to(device)  # Đưa lên GPU\n",
        "\n",
        "        optimizer.zero_grad()\n",
        "        outputs = model(inputs)\n",
        "        loss = criterion(outputs, labels)\n",
        "        loss.backward()\n",
        "        optimizer.step()\n",
        "\n",
        "        running_loss += loss.item()\n",
        "        if i % 2000 == 1999:\n",
        "            print('[%d, %5d] loss: %.3f' %\n",
        "                  (epoch + 1, i + 1, running_loss / 2000))\n",
        "            running_loss = 0.0\n",
        "\n",
        "print('Finished Training')"
      ]
    },
    {
      "cell_type": "markdown",
      "metadata": {
        "id": "QIw3tl_bxuGH"
      },
      "source": [
        "5. Test the network on the test data\n",
        "^^^^^^^^^^^^^^^^^^^^^^^^^^^^^^^^^^^^\n",
        "\n",
        "We have trained the network for 2 passes over the training dataset.\n",
        "But we need to check if the network has learnt anything at all.\n",
        "\n",
        "We will check this by predicting the class label that the neural network\n",
        "outputs, and checking it against the ground-truth. If the prediction is\n",
        "correct, we add the sample to the list of correct predictions.\n",
        "\n",
        "Okay, first step. Let us display an image from the test set to get familiar.\n",
        "\n"
      ]
    },
    {
      "cell_type": "code",
      "execution_count": 9,
      "metadata": {
        "id": "H60EAxhhxuGH",
        "outputId": "25d59e95-b3f3-454a-a9e2-108fa14dfa3e",
        "colab": {
          "base_uri": "https://localhost:8080/",
          "height": 210
        }
      },
      "outputs": [
        {
          "output_type": "stream",
          "name": "stdout",
          "text": [
            "GroundTruth:    cat  ship  ship plane\n"
          ]
        },
        {
          "output_type": "display_data",
          "data": {
            "text/plain": [
              "<Figure size 640x480 with 1 Axes>"
            ],
            "image/png": "[encoded data removed]"
          },
          "metadata": {}
        }
      ],
      "source": [
        "device = torch.device(\"cuda\" if torch.cuda.is_available() else \"cpu\")\n",
        "model.to(device)  # Ensure the model is on the correct device\n",
        "\n",
        "dataiter = iter(testloader)\n",
        "images, labels = next(dataiter)\n",
        "\n",
        "images = images.to(device)  # Move images to the same device as the model\n",
        "labels = labels.to(device)  # Optional: move labels if you'll use them later\n",
        "\n",
        "# Print images (convert back to CPU just for displaying)\n",
        "imshow(torchvision.utils.make_grid(images.cpu()))\n",
        "print('GroundTruth: ', ' '.join('%5s' % classes[labels[j]] for j in range(4)))"
      ]
    },
    {
      "cell_type": "markdown",
      "metadata": {
        "id": "UH73gw7lxuGH"
      },
      "source": [
        "Okay, now let us see what the neural network thinks these examples above are:\n",
        "\n"
      ]
    },
    {
      "cell_type": "code",
      "execution_count": 10,
      "metadata": {
        "id": "l4mif2L5xuGH"
      },
      "outputs": [],
      "source": [
        "outputs = model(images)"
      ]
    },
    {
      "cell_type": "markdown",
      "metadata": {
        "id": "DCan5srhxuGH"
      },
      "source": [
        "The outputs are energies for the 10 classes.\n",
        "Higher the energy for a class, the more the network\n",
        "thinks that the image is of the particular class.\n",
        "So, let's get the index of the highest energy:\n",
        "\n"
      ]
    },
    {
      "cell_type": "code",
      "execution_count": 11,
      "metadata": {
        "id": "c1eygdTIxuGH",
        "outputId": "09448cb3-30bc-4993-f652-6c004ef517aa",
        "colab": {
          "base_uri": "https://localhost:8080/"
        }
      },
      "outputs": [
        {
          "output_type": "stream",
          "name": "stdout",
          "text": [
            "Predicted:    cat  ship plane plane\n"
          ]
        }
      ],
      "source": [
        "_, predicted = torch.max(outputs, 1)\n",
        "\n",
        "print('Predicted: ', ' '.join('%5s' % classes[predicted[j]]\n",
        "                              for j in range(4)))"
      ]
    },
    {
      "cell_type": "markdown",
      "metadata": {
        "id": "7ncAWxK8xuGH"
      },
      "source": [
        "The results seem pretty good.\n",
        "\n",
        "Let us look at how the network performs on the whole dataset.\n",
        "\n"
      ]
    },
    {
      "cell_type": "code",
      "execution_count": 12,
      "metadata": {
        "id": "-L0UPukyxuGI",
        "outputId": "292d4f39-8ef0-441f-86f3-22340d9c9f0e",
        "colab": {
          "base_uri": "https://localhost:8080/"
        }
      },
      "outputs": [
        {
          "output_type": "stream",
          "name": "stdout",
          "text": [
            "Accuracy of the network on the 10000 test images: 67 %\n"
          ]
        }
      ],
      "source": [
        "correct = 0\n",
        "total = 0\n",
        "with torch.no_grad():\n",
        "    for data in testloader:\n",
        "        images, labels = data\n",
        "        images = images.to(device)\n",
        "        labels = labels.to(device)\n",
        "        outputs = model(images)\n",
        "        _, predicted = torch.max(outputs.data, 1)\n",
        "        total += labels.size(0)\n",
        "        correct += (predicted == labels).sum().item()\n",
        "\n",
        "print('Accuracy of the network on the 10000 test images: %d %%' % (\n",
        "    100 * correct / total))"
      ]
    },
    {
      "cell_type": "markdown",
      "metadata": {
        "id": "22frij5WxuGI"
      },
      "source": [
        "That looks waaay better than chance, which is 10% accuracy (randomly picking\n",
        "a class out of 10 classes).\n",
        "Seems like the network learnt something.\n",
        "\n",
        "Hmmm, what are the classes that performed well, and the classes that did\n",
        "not perform well:\n",
        "\n"
      ]
    },
    {
      "cell_type": "code",
      "execution_count": 13,
      "metadata": {
        "id": "IzS5NGu6xuGI",
        "outputId": "0c1736b2-ef4e-451c-fbff-eec4d186570e",
        "colab": {
          "base_uri": "https://localhost:8080/"
        }
      },
      "outputs": [
        {
          "output_type": "stream",
          "name": "stdout",
          "text": [
            "Accuracy of plane : 81 %\n",
            "Accuracy of   car : 72 %\n",
            "Accuracy of  bird : 48 %\n",
            "Accuracy of   cat : 57 %\n",
            "Accuracy of  deer : 64 %\n",
            "Accuracy of   dog : 57 %\n",
            "Accuracy of  frog : 71 %\n",
            "Accuracy of horse : 66 %\n",
            "Accuracy of  ship : 75 %\n",
            "Accuracy of truck : 81 %\n"
          ]
        }
      ],
      "source": [
        "class_correct = list(0. for i in range(10))\n",
        "class_total = list(0. for i in range(10))\n",
        "with torch.no_grad():\n",
        "    for data in testloader:\n",
        "        images, labels = data\n",
        "        images = images.to(device)\n",
        "        labels = labels.to(device)\n",
        "        outputs = model(images)\n",
        "        _, predicted = torch.max(outputs, 1)\n",
        "        c = (predicted == labels).squeeze()\n",
        "        for i in range(4):\n",
        "            label = labels[i]\n",
        "            class_correct[label] += c[i].item()\n",
        "            class_total[label] += 1\n",
        "\n",
        "\n",
        "for i in range(10):\n",
        "    print('Accuracy of %5s : %2d %%' % (\n",
        "        classes[i], 100 * class_correct[i] / class_total[i]))"
      ]
    },
    {
      "cell_type": "markdown",
      "metadata": {
        "id": "w7tKpFCQxuGI"
      },
      "source": [
        "Okay, so what next?\n",
        "\n",
        "How do we run these neural networks on the GPU?\n",
        "\n",
        "Training on GPU\n",
        "----------------\n",
        "Just like how you transfer a Tensor on to the GPU, you transfer the neural\n",
        "net onto the GPU.\n",
        "\n",
        "Let's first define our device as the first visible cuda device if we have\n",
        "CUDA available:\n",
        "\n"
      ]
    },
    {
      "cell_type": "code",
      "execution_count": null,
      "metadata": {
        "id": "l5OJtANaxuGI"
      },
      "outputs": [],
      "source": [
        "device = torch.device(\"cuda:0\" if torch.cuda.is_available() else \"cpu\")\n",
        "\n",
        "# Assume that we are on a CUDA machine, then this should print a CUDA device:\n",
        "\n",
        "print(device)"
      ]
    },
    {
      "cell_type": "markdown",
      "metadata": {
        "id": "zbXAlkL_xuGJ"
      },
      "source": [
        "The rest of this section assumes that `device` is a CUDA device.\n",
        "\n",
        "Then these methods will recursively go over all modules and convert their\n",
        "parameters and buffers to CUDA tensors:\n",
        "\n",
        ".. code:: python\n",
        "\n",
        "    net.to(device)\n",
        "\n",
        "\n",
        "Remember that you will have to send the inputs and targets at every step\n",
        "to the GPU too:\n",
        "\n",
        ".. code:: python\n",
        "\n",
        "        inputs, labels = inputs.to(device), labels.to(device)\n",
        "\n",
        "Why dont I notice MASSIVE speedup compared to CPU? Because your network\n",
        "is realllly small.\n",
        "\n",
        "**Exercise:** Try increasing the width of your network (argument 2 of\n",
        "the first ``nn.Conv2d``, and argument 1 of the second ``nn.Conv2d`` –\n",
        "they need to be the same number), see what kind of speedup you get.\n",
        "\n",
        "**Goals achieved**:\n",
        "\n",
        "- Understanding PyTorch's Tensor library and neural networks at a high level.\n",
        "- Train a small neural network to classify images\n",
        "\n",
        "Training on multiple GPUs\n",
        "-------------------------\n",
        "If you want to see even more MASSIVE speedup using all of your GPUs,\n",
        "please check out :doc:`data_parallel_tutorial`.\n",
        "\n",
        "Where do I go next?\n",
        "-------------------\n",
        "\n",
        "-  :doc:`Train neural nets to play video games </intermediate/reinforcement_q_learning>`\n",
        "-  `Train a state-of-the-art ResNet network on imagenet`_\n",
        "-  `Train a face generator using Generative Adversarial Networks`_\n",
        "-  `Train a word-level language model using Recurrent LSTM networks`_\n",
        "-  `More examples`_\n",
        "-  `More tutorials`_\n",
        "-  `Discuss PyTorch on the Forums`_\n",
        "-  `Chat with other users on Slack`_\n",
        "\n",
        "\n"
      ]
    }
  ],
  "metadata": {
    "kernelspec": {
      "display_name": "Python 3",
      "name": "python3"
    },
    "language_info": {
      "codemirror_mode": {
        "name": "ipython",
        "version": 3
      },
      "file_extension": ".py",
      "mimetype": "text/x-python",
      "name": "python",
      "nbconvert_exporter": "python",
      "pygments_lexer": "ipython3",
      "version": "3.6.6"
    },
    "colab": {
      "provenance": [],
      "gpuType": "T4"
    },
    "accelerator": "GPU"
  },
  "nbformat": 4,
  "nbformat_minor": 0
}