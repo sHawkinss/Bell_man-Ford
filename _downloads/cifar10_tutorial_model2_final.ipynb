{
  "cells": [
    {
      "cell_type": "code",
      "execution_count": 1,
      "metadata": {
        "id": "gKW2l_kYJzD9"
      },
      "outputs": [],
      "source": [
        "%matplotlib inline"
      ]
    },
    {
      "cell_type": "markdown",
      "metadata": {
        "id": "WiGX2OaCJzEN"
      },
      "source": [
        "\n",
        "Training a Classifier\n",
        "=====================\n",
        "\n",
        "This is it. You have seen how to define neural networks, compute loss and make\n",
        "updates to the weights of the network.\n",
        "\n",
        "Now you might be thinking,\n",
        "\n",
        "What about data?\n",
        "----------------\n",
        "\n",
        "Generally, when you have to deal with image, text, audio or video data,\n",
        "you can use standard python packages that load data into a numpy array.\n",
        "Then you can convert this array into a ``torch.*Tensor``.\n",
        "\n",
        "-  For images, packages such as Pillow, OpenCV are useful\n",
        "-  For audio, packages such as scipy and librosa\n",
        "-  For text, either raw Python or Cython based loading, or NLTK and\n",
        "   SpaCy are useful\n",
        "\n",
        "Specifically for vision, we have created a package called\n",
        "``torchvision``, that has data loaders for common datasets such as\n",
        "Imagenet, CIFAR10, MNIST, etc. and data transformers for images, viz.,\n",
        "``torchvision.datasets`` and ``torch.utils.data.DataLoader``.\n",
        "\n",
        "This provides a huge convenience and avoids writing boilerplate code.\n",
        "\n",
        "For this tutorial, we will use the CIFAR10 dataset.\n",
        "It has the classes: ‘airplane’, ‘automobile’, ‘bird’, ‘cat’, ‘deer’,\n",
        "‘dog’, ‘frog’, ‘horse’, ‘ship’, ‘truck’. The images in CIFAR-10 are of\n",
        "size 3x32x32, i.e. 3-channel color images of 32x32 pixels in size.\n",
        "\n",
        ".. figure:: /_static/img/cifar10.png\n",
        "   :alt: cifar10\n",
        "\n",
        "   cifar10\n",
        "\n",
        "\n",
        "Training an image classifier\n",
        "----------------------------\n",
        "\n",
        "We will do the following steps in order:\n",
        "\n",
        "1. Load and normalizing the CIFAR10 training and test datasets using\n",
        "   ``torchvision``\n",
        "2. Define a Convolution Neural Network\n",
        "3. Define a loss function\n",
        "4. Train the network on the training data\n",
        "5. Test the network on the test data\n",
        "\n",
        "1. Loading and normalizing CIFAR10\n",
        "^^^^^^^^^^^^^^^^^^^^^^^^^^^^^^^^^^\n",
        "\n",
        "Using ``torchvision``, it’s extremely easy to load CIFAR10.\n",
        "\n"
      ]
    },
    {
      "cell_type": "code",
      "execution_count": 2,
      "metadata": {
        "id": "fIDUfqihJzEZ",
        "outputId": "226bcab2-7667-48d9-ccb0-c709cb81bcc6",
        "colab": {
          "base_uri": "https://localhost:8080/"
        }
      },
      "outputs": [
        {
          "output_type": "stream",
          "name": "stdout",
          "text": [
            "cuda:0\n"
          ]
        }
      ],
      "source": [
        "import torch\n",
        "import torchvision\n",
        "import torchvision.transforms as transforms\n",
        "device = torch.device(\"cuda:0\" if torch.cuda.is_available() else \"cpu\")\n",
        "\n",
        "# Assume that we are on a CUDA machine, then this should print a CUDA device:\n",
        "\n",
        "print(device)"
      ]
    },
    {
      "cell_type": "markdown",
      "metadata": {
        "id": "9Fd9jZbYJzEc"
      },
      "source": [
        "The output of torchvision datasets are PILImage images of range [0, 1].\n",
        "We transform them to Tensors of normalized range [-1, 1].\n",
        "\n"
      ]
    },
    {
      "cell_type": "code",
      "execution_count": 3,
      "metadata": {
        "id": "1pUPRH_FJzEc",
        "outputId": "dba8947e-5175-45d2-c33e-93d684df30f9",
        "colab": {
          "base_uri": "https://localhost:8080/"
        }
      },
      "outputs": [
        {
          "output_type": "stream",
          "name": "stderr",
          "text": [
            "100%|██████████| 170M/170M [00:13<00:00, 12.6MB/s]\n"
          ]
        }
      ],
      "source": [
        "transform = transforms.Compose(\n",
        "    [transforms.ToTensor(),\n",
        "     transforms.Normalize((0.5, 0.5, 0.5), (0.5, 0.5, 0.5))])\n",
        "\n",
        "trainset = torchvision.datasets.CIFAR10(root='./data', train=True,\n",
        "                                        download=True, transform=transform)\n",
        "trainloader = torch.utils.data.DataLoader(trainset, batch_size=4,\n",
        "                                          shuffle=True, num_workers=2)\n",
        "\n",
        "testset = torchvision.datasets.CIFAR10(root='./data', train=False,\n",
        "                                       download=True, transform=transform)\n",
        "testloader = torch.utils.data.DataLoader(testset, batch_size=4,\n",
        "                                         shuffle=False, num_workers=2)\n",
        "\n",
        "classes = ('plane', 'car', 'bird', 'cat',\n",
        "           'deer', 'dog', 'frog', 'horse', 'ship', 'truck')"
      ]
    },
    {
      "cell_type": "markdown",
      "metadata": {
        "id": "_u56O_paJzEj"
      },
      "source": [
        "Let us show some of the training images, for fun.\n",
        "\n"
      ]
    },
    {
      "cell_type": "code",
      "execution_count": 4,
      "metadata": {
        "id": "n7-tzg-9JzEl",
        "outputId": "be77cc28-faa9-41ca-f8d3-31846b6c191b",
        "colab": {
          "base_uri": "https://localhost:8080/",
          "height": 210
        }
      },
      "outputs": [
        {
          "output_type": "stream",
          "name": "stdout",
          "text": [
            "truck   car  deer truck\n"
          ]
        },
        {
          "output_type": "display_data",
          "data": {
            "text/plain": [
              "<Figure size 640x480 with 1 Axes>"
            ],
            "image/png": "[encoded data removed]"
          },
          "metadata": {}
        }
      ],
      "source": [
        "import matplotlib.pyplot as plt\n",
        "import numpy as np\n",
        "\n",
        "# functions to show an image\n",
        "\n",
        "\n",
        "def imshow(img):\n",
        "    img = img / 2 + 0.5     # unnormalize\n",
        "    npimg = img.numpy()\n",
        "    plt.imshow(np.transpose(npimg, (1, 2, 0)))\n",
        "\n",
        "\n",
        "# get some random training images\n",
        "dataiter = iter(trainloader)\n",
        "images, labels = next(dataiter)\n",
        "\n",
        "# show images\n",
        "imshow(torchvision.utils.make_grid(images))\n",
        "# print labels\n",
        "print(' '.join('%5s' % classes[labels[j]] for j in range(4)))"
      ]
    },
    {
      "cell_type": "markdown",
      "metadata": {
        "id": "42XIvbigJzEm"
      },
      "source": [
        "2. Define a Convolution Neural Network\n",
        "^^^^^^^^^^^^^^^^^^^^^^^^^^^^^^^^^^^^^^\n",
        "Copy the neural network from the Neural Networks section before and modify it to\n",
        "take 3-channel images (instead of 1-channel images as it was defined).\n",
        "\n"
      ]
    },
    {
      "cell_type": "code",
      "execution_count": 5,
      "metadata": {
        "id": "Glck4TPcJzEo",
        "outputId": "90ed3e69-5004-48b9-f4a2-dbd876eb266d",
        "colab": {
          "base_uri": "https://localhost:8080/"
        }
      },
      "outputs": [
        {
          "output_type": "stream",
          "name": "stdout",
          "text": [
            "----------------------------------------------------------------\n",
            "        Layer (type)               Output Shape         Param #\n",
            "================================================================\n",
            "            Conv2d-1           [-1, 32, 30, 30]           2,432\n",
            "            Conv2d-2           [-1, 64, 30, 30]          51,264\n",
            "            Conv2d-3           [-1, 40, 30, 30]          32,040\n",
            "            Conv2d-4           [-1, 50, 30, 30]          50,050\n",
            "            Conv2d-5           [-1, 64, 30, 30]          80,064\n",
            "            Conv2d-6          [-1, 128, 30, 30]         204,928\n",
            "            Conv2d-7          [-1, 192, 30, 30]         614,592\n",
            "         MaxPool2d-8          [-1, 192, 15, 15]               0\n",
            "         MaxPool2d-9           [-1, 64, 15, 15]               0\n",
            "           Conv2d-10          [-1, 300, 13, 13]       1,920,300\n",
            "           Conv2d-11          [-1, 280, 13, 13]       1,792,280\n",
            "           Conv2d-12          [-1, 300, 13, 13]       2,100,300\n",
            "           Conv2d-13          [-1, 512, 11, 11]       3,840,512\n",
            "           Linear-14                   [-1, 10]         619,530\n",
            "================================================================\n",
            "Total params: 11,308,292\n",
            "Trainable params: 11,308,292\n",
            "Non-trainable params: 0\n",
            "----------------------------------------------------------------\n",
            "Input size (MB): 0.01\n",
            "Forward/backward pass size (MB): 5.96\n",
            "Params size (MB): 43.14\n",
            "Estimated Total Size (MB): 49.11\n",
            "----------------------------------------------------------------\n"
          ]
        }
      ],
      "source": [
        "import torch.nn as nn\n",
        "import torch.nn.functional as F\n",
        "\n",
        "\n",
        "class Net(nn.Module):\n",
        "      def __init__(self):\n",
        "          super(Net, self).__init__()\n",
        "          self.conv1=nn.Conv2d(3,32,5,padding=1)\n",
        "          self.pool=nn.MaxPool2d(2,2)\n",
        "\n",
        "          #nhánh phải\n",
        "          self.conv21=nn.Conv2d(32,64,5,padding=2)\n",
        "          self.conv22=nn.Conv2d(64,128,5,padding=2)\n",
        "          self.conv23= nn.Conv2d(128,192,5,padding=2)\n",
        "\n",
        "\n",
        "          #nhánh trái\n",
        "          self.conv31=nn.Conv2d(32,40,5,padding =2)\n",
        "          self.conv32=nn.Conv2d(40,50,5,padding =2)\n",
        "          self.conv33=nn.Conv2d(50,64,5,padding =2)\n",
        "          #sau khi concat nhanh trai\n",
        "          self.conv41=nn.Conv2d(256,300,5,padding=1)\n",
        "          #nhanh phai\n",
        "          self.conv51=nn.Conv2d(256,280,5, padding =1)\n",
        "          self.conv52=nn.Conv2d(280,300,5, padding=2)\n",
        "          #conv sau khi congh\n",
        "          self.convfinal= nn.Conv2d(300,512,5, padding =1)\n",
        "\n",
        "          self.fc = nn.Linear(512 * 11 * 11, 10)\n",
        "\n",
        "      def forward(self, x):\n",
        "          x= F.relu(self.conv1(x))\n",
        "\n",
        "          x1= F.relu(self.conv21(x))\n",
        "\n",
        "          x2= F.relu(self.conv31(x))\n",
        "          x2= F.relu(self.conv32(x2))\n",
        "          x2= F.relu(self.conv33(x2))\n",
        "\n",
        "          x= x1+x2\n",
        "          x1= F.relu(self.conv22(x1))\n",
        "          x1= F.relu(self.conv23(x1))\n",
        "          x1 = self.pool(x1)\n",
        "\n",
        "          x = self.pool(x)\n",
        "          x=torch.cat((x1,x),1)\n",
        "          x3 = F.relu(self.conv41(x))\n",
        "          x4 = F.relu(self.conv51(x))\n",
        "          x4 = F.relu(self.conv52(x4))\n",
        "\n",
        "          x=x3+x4\n",
        "          x=F.relu(self.convfinal(x))\n",
        "          x = x.view(-1, 512 * 11 * 11)\n",
        "          x = self.fc(x)\n",
        "          return x\n",
        "\n",
        "\n",
        "net = Net()\n",
        "\n",
        "device = torch.device(\"cuda\" if torch.cuda.is_available() else \"cpu\")\n",
        "model = Net().to(device)\n",
        "\n",
        "from torchsummary import summary\n",
        "summary(model, (3, 32, 32))"
      ]
    },
    {
      "cell_type": "markdown",
      "metadata": {
        "id": "8-dHmdL7JzEq"
      },
      "source": [
        "3. Define a Loss function and optimizer\n",
        "^^^^^^^^^^^^^^^^^^^^^^^^^^^^^^^^^^^^^^^\n",
        "Let's use a Classification Cross-Entropy loss and SGD with momentum.\n",
        "\n"
      ]
    },
    {
      "cell_type": "code",
      "execution_count": 6,
      "metadata": {
        "id": "J9HMy11dJzEr"
      },
      "outputs": [],
      "source": [
        "import torch.optim as optim\n",
        "\n",
        "criterion = nn.CrossEntropyLoss()\n",
        "optimizer = optim.SGD(net.parameters(), lr=0.001, momentum=0.9)"
      ]
    },
    {
      "cell_type": "markdown",
      "metadata": {
        "id": "IhquXS3VJzEs"
      },
      "source": [
        "4. Train the network\n",
        "^^^^^^^^^^^^^^^^^^^^\n",
        "\n",
        "This is when things start to get interesting.\n",
        "We simply have to loop over our data iterator, and feed the inputs to the\n",
        "network and optimize.\n",
        "\n"
      ]
    },
    {
      "cell_type": "code",
      "execution_count": 7,
      "metadata": {
        "id": "4WVOgu9QJzEs",
        "outputId": "d16c6fb7-8d93-459b-8c0d-b93ba2610c61",
        "colab": {
          "base_uri": "https://localhost:8080/"
        }
      },
      "outputs": [
        {
          "output_type": "stream",
          "name": "stdout",
          "text": [
            "[1,  2000] loss: 1.927\n",
            "[1,  4000] loss: 1.572\n",
            "[1,  6000] loss: 1.414\n",
            "[1,  8000] loss: 1.276\n",
            "[1, 10000] loss: 1.139\n",
            "[1, 12000] loss: 1.069\n",
            "[2,  2000] loss: 0.935\n",
            "[2,  4000] loss: 0.906\n",
            "[2,  6000] loss: 0.858\n",
            "[2,  8000] loss: 0.820\n",
            "[2, 10000] loss: 0.798\n",
            "[2, 12000] loss: 0.753\n",
            "[3,  2000] loss: 0.628\n",
            "[3,  4000] loss: 0.633\n",
            "[3,  6000] loss: 0.627\n",
            "[3,  8000] loss: 0.630\n",
            "[3, 10000] loss: 0.609\n",
            "[3, 12000] loss: 0.606\n",
            "[4,  2000] loss: 0.419\n",
            "[4,  4000] loss: 0.440\n",
            "[4,  6000] loss: 0.454\n",
            "[4,  8000] loss: 0.450\n",
            "[4, 10000] loss: 0.453\n",
            "[4, 12000] loss: 0.451\n",
            "[5,  2000] loss: 0.238\n",
            "[5,  4000] loss: 0.267\n",
            "[5,  6000] loss: 0.277\n",
            "[5,  8000] loss: 0.297\n",
            "[5, 10000] loss: 0.314\n",
            "[5, 12000] loss: 0.321\n",
            "[6,  2000] loss: 0.135\n",
            "[6,  4000] loss: 0.151\n",
            "[6,  6000] loss: 0.172\n",
            "[6,  8000] loss: 0.191\n",
            "[6, 10000] loss: 0.207\n",
            "[6, 12000] loss: 0.217\n",
            "[7,  2000] loss: 0.081\n",
            "[7,  4000] loss: 0.098\n",
            "[7,  6000] loss: 0.128\n",
            "[7,  8000] loss: 0.141\n",
            "[7, 10000] loss: 0.153\n",
            "[7, 12000] loss: 0.164\n",
            "[8,  2000] loss: 0.079\n",
            "[8,  4000] loss: 0.093\n",
            "[8,  6000] loss: 0.090\n",
            "[8,  8000] loss: 0.096\n",
            "[8, 10000] loss: 0.109\n",
            "[8, 12000] loss: 0.112\n",
            "[9,  2000] loss: 0.067\n",
            "[9,  4000] loss: 0.071\n",
            "[9,  6000] loss: 0.091\n",
            "[9,  8000] loss: 0.087\n",
            "[9, 10000] loss: 0.107\n",
            "[9, 12000] loss: 0.111\n",
            "[10,  2000] loss: 0.060\n",
            "[10,  4000] loss: 0.074\n",
            "[10,  6000] loss: 0.065\n",
            "[10,  8000] loss: 0.067\n",
            "[10, 10000] loss: 0.086\n",
            "[10, 12000] loss: 0.084\n",
            "[11,  2000] loss: 0.041\n",
            "[11,  4000] loss: 0.049\n",
            "[11,  6000] loss: 0.066\n",
            "[11,  8000] loss: 0.065\n",
            "[11, 10000] loss: 0.062\n",
            "[11, 12000] loss: 0.078\n",
            "[12,  2000] loss: 0.035\n",
            "[12,  4000] loss: 0.051\n",
            "[12,  6000] loss: 0.045\n",
            "[12,  8000] loss: 0.062\n",
            "[12, 10000] loss: 0.076\n",
            "[12, 12000] loss: 0.062\n",
            "[13,  2000] loss: 0.035\n",
            "[13,  4000] loss: 0.041\n",
            "[13,  6000] loss: 0.048\n",
            "[13,  8000] loss: 0.082\n",
            "[13, 10000] loss: 0.052\n",
            "[13, 12000] loss: 0.071\n",
            "[14,  2000] loss: 0.042\n",
            "[14,  4000] loss: 0.053\n",
            "[14,  6000] loss: 0.056\n",
            "[14,  8000] loss: 0.069\n",
            "[14, 10000] loss: 0.065\n",
            "[14, 12000] loss: 0.066\n",
            "[15,  2000] loss: 0.040\n",
            "[15,  4000] loss: 0.060\n",
            "[15,  6000] loss: 0.052\n",
            "[15,  8000] loss: 0.051\n",
            "[15, 10000] loss: 0.040\n",
            "[15, 12000] loss: 0.048\n",
            "[16,  2000] loss: 0.047\n",
            "[16,  4000] loss: 0.035\n",
            "[16,  6000] loss: 0.068\n",
            "[16,  8000] loss: 0.060\n",
            "[16, 10000] loss: 0.059\n",
            "[16, 12000] loss: 0.054\n",
            "[17,  2000] loss: 0.033\n",
            "[17,  4000] loss: 0.035\n",
            "[17,  6000] loss: 0.038\n",
            "[17,  8000] loss: 0.051\n",
            "[17, 10000] loss: 0.054\n",
            "[17, 12000] loss: 0.050\n",
            "[18,  2000] loss: 0.039\n",
            "[18,  4000] loss: 0.041\n",
            "[18,  6000] loss: 0.031\n",
            "[18,  8000] loss: 0.051\n",
            "[18, 10000] loss: 0.057\n",
            "[18, 12000] loss: 0.067\n",
            "[19,  2000] loss: 0.026\n",
            "[19,  4000] loss: 0.028\n",
            "[19,  6000] loss: 0.038\n",
            "[19,  8000] loss: 0.036\n",
            "[19, 10000] loss: 0.043\n",
            "[19, 12000] loss: 0.071\n",
            "[20,  2000] loss: 0.031\n",
            "[20,  4000] loss: 0.034\n",
            "[20,  6000] loss: 0.043\n",
            "[20,  8000] loss: 0.030\n",
            "[20, 10000] loss: 0.063\n",
            "[20, 12000] loss: 0.061\n",
            "Finished Training\n"
          ]
        }
      ],
      "source": [
        "device = torch.device(\"cuda\" if torch.cuda.is_available() else \"cpu\")\n",
        "net.to(device)\n",
        "\n",
        "for epoch in range(20):  # loop over the dataset multiple times\n",
        "    running_loss = 0.0\n",
        "    for i, data in enumerate(trainloader, 0):\n",
        "        inputs, labels = data\n",
        "        inputs, labels = inputs.to(device), labels.to(device)  # Đưa lên GPU\n",
        "\n",
        "        optimizer.zero_grad()\n",
        "        outputs = net(inputs)\n",
        "        loss = criterion(outputs, labels)\n",
        "        loss.backward()\n",
        "        optimizer.step()\n",
        "\n",
        "        running_loss += loss.item()\n",
        "        if i % 2000 == 1999:\n",
        "            print('[%d, %5d] loss: %.3f' %\n",
        "                  (epoch + 1, i + 1, running_loss / 2000))\n",
        "            running_loss = 0.0\n",
        "\n",
        "print('Finished Training')"
      ]
    },
    {
      "cell_type": "markdown",
      "metadata": {
        "id": "hvszBMk-JzEu"
      },
      "source": [
        "5. Test the network on the test data\n",
        "^^^^^^^^^^^^^^^^^^^^^^^^^^^^^^^^^^^^\n",
        "\n",
        "We have trained the network for 2 passes over the training dataset.\n",
        "But we need to check if the network has learnt anything at all.\n",
        "\n",
        "We will check this by predicting the class label that the neural network\n",
        "outputs, and checking it against the ground-truth. If the prediction is\n",
        "correct, we add the sample to the list of correct predictions.\n",
        "\n",
        "Okay, first step. Let us display an image from the test set to get familiar.\n",
        "\n"
      ]
    },
    {
      "cell_type": "code",
      "execution_count": 9,
      "metadata": {
        "id": "N_p6zusNJzEv",
        "outputId": "71702c68-6805-4c1d-a4c2-550db1f14a0a",
        "colab": {
          "base_uri": "https://localhost:8080/",
          "height": 210
        }
      },
      "outputs": [
        {
          "output_type": "stream",
          "name": "stdout",
          "text": [
            "GroundTruth:    cat  ship  ship plane\n"
          ]
        },
        {
          "output_type": "display_data",
          "data": {
            "text/plain": [
              "<Figure size 640x480 with 1 Axes>"
            ],
            "image/png": "[encoded data removed]"
          },
          "metadata": {}
        }
      ],
      "source": [
        "device = torch.device(\"cuda\" if torch.cuda.is_available() else \"cpu\")\n",
        "net.to(device)  # Ensure the model is on the correct device\n",
        "\n",
        "dataiter = iter(testloader)\n",
        "images, labels = next(dataiter)\n",
        "\n",
        "images = images.to(device)  # Move images to the same device as the model\n",
        "labels = labels.to(device)  # Optional: move labels if you'll use them later\n",
        "\n",
        "# Print images (convert back to CPU just for displaying)\n",
        "imshow(torchvision.utils.make_grid(images.cpu()))\n",
        "print('GroundTruth: ', ' '.join('%5s' % classes[labels[j]] for j in range(4)))"
      ]
    },
    {
      "cell_type": "markdown",
      "metadata": {
        "id": "E19-5NVQJzEv"
      },
      "source": [
        "Okay, now let us see what the neural network thinks these examples above are:\n",
        "\n"
      ]
    },
    {
      "cell_type": "code",
      "execution_count": 10,
      "metadata": {
        "id": "ul4Npt55JzEv"
      },
      "outputs": [],
      "source": [
        "outputs = net(images)\n"
      ]
    },
    {
      "cell_type": "markdown",
      "metadata": {
        "id": "HC-Mh0ysJzEw"
      },
      "source": [
        "The outputs are energies for the 10 classes.\n",
        "Higher the energy for a class, the more the network\n",
        "thinks that the image is of the particular class.\n",
        "So, let's get the index of the highest energy:\n",
        "\n"
      ]
    },
    {
      "cell_type": "code",
      "execution_count": 11,
      "metadata": {
        "id": "rd7hMvPDJzEx",
        "outputId": "c6fe88b8-7013-4102-dfa6-2f3a6daefd04",
        "colab": {
          "base_uri": "https://localhost:8080/"
        }
      },
      "outputs": [
        {
          "output_type": "stream",
          "name": "stdout",
          "text": [
            "Predicted:    dog  ship  ship plane\n"
          ]
        }
      ],
      "source": [
        "_, predicted = torch.max(outputs, 1)\n",
        "\n",
        "print('Predicted: ', ' '.join('%5s' % classes[predicted[j]]\n",
        "                              for j in range(4)))"
      ]
    },
    {
      "cell_type": "markdown",
      "metadata": {
        "id": "8ZsTE9XfJzEy"
      },
      "source": [
        "The results seem pretty good.\n",
        "\n",
        "Let us look at how the network performs on the whole dataset.\n",
        "\n"
      ]
    },
    {
      "cell_type": "code",
      "execution_count": 12,
      "metadata": {
        "id": "Kh7k6O98JzEy",
        "outputId": "177bd039-4184-4ac3-825a-f09ecbe31d14",
        "colab": {
          "base_uri": "https://localhost:8080/"
        }
      },
      "outputs": [
        {
          "output_type": "stream",
          "name": "stdout",
          "text": [
            "Accuracy of the network on the 10000 test images: 76 %\n"
          ]
        }
      ],
      "source": [
        "device = torch.device(\"cuda\" if torch.cuda.is_available() else \"cpu\")\n",
        "net.to(device)  # Ensure the model is on the correct device\n",
        "\n",
        "correct = 0\n",
        "total = 0\n",
        "with torch.no_grad():\n",
        "    for data in testloader:\n",
        "        images, labels = data\n",
        "        images = images.to(device)\n",
        "        labels = labels.to(device)\n",
        "\n",
        "        outputs = net(images)\n",
        "        _, predicted = torch.max(outputs.data, 1)\n",
        "        total += labels.size(0)\n",
        "        correct += (predicted == labels).sum().item()\n",
        "\n",
        "print('Accuracy of the network on the 10000 test images: %d %%' % (\n",
        "    100 * correct / total))"
      ]
    },
    {
      "cell_type": "markdown",
      "metadata": {
        "id": "vfieRPFVJzEz"
      },
      "source": [
        "That looks waaay better than chance, which is 10% accuracy (randomly picking\n",
        "a class out of 10 classes).\n",
        "Seems like the network learnt something.\n",
        "\n",
        "Hmmm, what are the classes that performed well, and the classes that did\n",
        "not perform well:\n",
        "\n"
      ]
    },
    {
      "cell_type": "code",
      "execution_count": 13,
      "metadata": {
        "id": "-t-C_yRwJzEz",
        "outputId": "476fd213-ef3c-4659-8fb2-0d9d8a189849",
        "colab": {
          "base_uri": "https://localhost:8080/"
        }
      },
      "outputs": [
        {
          "output_type": "stream",
          "name": "stdout",
          "text": [
            "Accuracy of plane : 82 %\n",
            "Accuracy of   car : 83 %\n",
            "Accuracy of  bird : 70 %\n",
            "Accuracy of   cat : 60 %\n",
            "Accuracy of  deer : 74 %\n",
            "Accuracy of   dog : 64 %\n",
            "Accuracy of  frog : 85 %\n",
            "Accuracy of horse : 79 %\n",
            "Accuracy of  ship : 84 %\n",
            "Accuracy of truck : 82 %\n"
          ]
        }
      ],
      "source": [
        "device = torch.device(\"cuda\" if torch.cuda.is_available() else \"cpu\")\n",
        "net.to(device)\n",
        "\n",
        "class_correct = list(0. for i in range(10))\n",
        "class_total = list(0. for i in range(10))\n",
        "\n",
        "with torch.no_grad():\n",
        "    for data in testloader:\n",
        "        images, labels = data\n",
        "        images = images.to(device)\n",
        "        labels = labels.to(device)\n",
        "\n",
        "        outputs = net(images)\n",
        "        _, predicted = torch.max(outputs, 1)\n",
        "        c = (predicted == labels).squeeze()\n",
        "\n",
        "        for i in range(len(labels)):  # safer than fixed range(4)\n",
        "            label = labels[i].item()\n",
        "            class_correct[label] += c[i].item()\n",
        "            class_total[label] += 1\n",
        "\n",
        "for i in range(10):\n",
        "    if class_total[i] > 0:\n",
        "        print('Accuracy of %5s : %2d %%' % (\n",
        "            classes[i], 100 * class_correct[i] / class_total[i]))\n",
        "    else:\n",
        "        print('Accuracy of %5s : N/A (no samples)' % classes[i])"
      ]
    },
    {
      "cell_type": "markdown",
      "metadata": {
        "id": "JTOrZQRRJzE0"
      },
      "source": [
        "Okay, so what next?\n",
        "\n",
        "How do we run these neural networks on the GPU?\n",
        "\n",
        "Training on GPU\n",
        "----------------\n",
        "Just like how you transfer a Tensor on to the GPU, you transfer the neural\n",
        "net onto the GPU.\n",
        "\n",
        "Let's first define our device as the first visible cuda device if we have\n",
        "CUDA available:\n",
        "\n"
      ]
    },
    {
      "cell_type": "code",
      "execution_count": null,
      "metadata": {
        "id": "yJ3k2uNuJzE1"
      },
      "outputs": [],
      "source": [
        "device = torch.device(\"cuda:0\" if torch.cuda.is_available() else \"cpu\")\n",
        "\n",
        "# Assume that we are on a CUDA machine, then this should print a CUDA device:\n",
        "\n",
        "print(device)"
      ]
    },
    {
      "cell_type": "markdown",
      "metadata": {
        "id": "pIxLMNRPJzE1"
      },
      "source": [
        "The rest of this section assumes that `device` is a CUDA device.\n",
        "\n",
        "Then these methods will recursively go over all modules and convert their\n",
        "parameters and buffers to CUDA tensors:\n",
        "\n",
        ".. code:: python\n",
        "\n",
        "    net.to(device)\n",
        "\n",
        "\n",
        "Remember that you will have to send the inputs and targets at every step\n",
        "to the GPU too:\n",
        "\n",
        ".. code:: python\n",
        "\n",
        "        inputs, labels = inputs.to(device), labels.to(device)\n",
        "\n",
        "Why dont I notice MASSIVE speedup compared to CPU? Because your network\n",
        "is realllly small.\n",
        "\n",
        "**Exercise:** Try increasing the width of your network (argument 2 of\n",
        "the first ``nn.Conv2d``, and argument 1 of the second ``nn.Conv2d`` –\n",
        "they need to be the same number), see what kind of speedup you get.\n",
        "\n",
        "**Goals achieved**:\n",
        "\n",
        "- Understanding PyTorch's Tensor library and neural networks at a high level.\n",
        "- Train a small neural network to classify images\n",
        "\n",
        "Training on multiple GPUs\n",
        "-------------------------\n",
        "If you want to see even more MASSIVE speedup using all of your GPUs,\n",
        "please check out :doc:`data_parallel_tutorial`.\n",
        "\n",
        "Where do I go next?\n",
        "-------------------\n",
        "\n",
        "-  :doc:`Train neural nets to play video games </intermediate/reinforcement_q_learning>`\n",
        "-  `Train a state-of-the-art ResNet network on imagenet`_\n",
        "-  `Train a face generator using Generative Adversarial Networks`_\n",
        "-  `Train a word-level language model using Recurrent LSTM networks`_\n",
        "-  `More examples`_\n",
        "-  `More tutorials`_\n",
        "-  `Discuss PyTorch on the Forums`_\n",
        "-  `Chat with other users on Slack`_\n",
        "\n",
        "\n"
      ]
    }
  ],
  "metadata": {
    "kernelspec": {
      "display_name": "Python 3",
      "name": "python3"
    },
    "language_info": {
      "codemirror_mode": {
        "name": "ipython",
        "version": 3
      },
      "file_extension": ".py",
      "mimetype": "text/x-python",
      "name": "python",
      "nbconvert_exporter": "python",
      "pygments_lexer": "ipython3",
      "version": "3.6.6"
    },
    "colab": {
      "provenance": [],
      "gpuType": "T4"
    },
    "accelerator": "GPU"
  },
  "nbformat": 4,
  "nbformat_minor": 0
}